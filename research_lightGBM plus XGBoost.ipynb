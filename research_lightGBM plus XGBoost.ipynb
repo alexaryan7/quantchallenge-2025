{
 "cells": [
  {
   "cell_type": "code",
   "execution_count": 2,
   "id": "94e3e89d",
   "metadata": {},
   "outputs": [
    {
     "name": "stdout",
     "output_type": "stream",
     "text": [
      "Collecting xgboost\n",
      "  Downloading xgboost-3.0.5-py3-none-win_amd64.whl (56.8 MB)\n",
      "     ---------------------------------------- 0.0/56.8 MB ? eta -:--:--\n",
      "     ---------------------------------------- 0.2/56.8 MB 7.6 MB/s eta 0:00:08\n",
      "     ---------------------------------------- 0.7/56.8 MB 11.1 MB/s eta 0:00:06\n",
      "     - -------------------------------------- 1.5/56.8 MB 11.7 MB/s eta 0:00:05\n",
      "     - -------------------------------------- 2.0/56.8 MB 12.9 MB/s eta 0:00:05\n",
      "     - -------------------------------------- 2.7/56.8 MB 13.0 MB/s eta 0:00:05\n",
      "     -- ------------------------------------- 3.2/56.8 MB 12.7 MB/s eta 0:00:05\n",
      "     -- ------------------------------------- 3.7/56.8 MB 13.2 MB/s eta 0:00:05\n",
      "     -- ------------------------------------- 4.1/56.8 MB 12.4 MB/s eta 0:00:05\n",
      "     --- ------------------------------------ 4.4/56.8 MB 12.4 MB/s eta 0:00:05\n",
      "     --- ------------------------------------ 4.9/56.8 MB 12.1 MB/s eta 0:00:05\n",
      "     --- ------------------------------------ 5.5/56.8 MB 12.5 MB/s eta 0:00:05\n",
      "     ---- ----------------------------------- 6.0/56.8 MB 12.7 MB/s eta 0:00:04\n",
      "     ---- ----------------------------------- 6.4/56.8 MB 12.5 MB/s eta 0:00:05\n",
      "     ---- ----------------------------------- 6.8/56.8 MB 12.4 MB/s eta 0:00:05\n",
      "     ----- ---------------------------------- 7.5/56.8 MB 12.3 MB/s eta 0:00:05\n",
      "     ----- ---------------------------------- 7.8/56.8 MB 12.2 MB/s eta 0:00:05\n",
      "     ----- ---------------------------------- 8.4/56.8 MB 12.2 MB/s eta 0:00:04\n",
      "     ------ --------------------------------- 9.1/56.8 MB 12.4 MB/s eta 0:00:04\n",
      "     ------ --------------------------------- 9.9/56.8 MB 12.7 MB/s eta 0:00:04\n",
      "     ------ -------------------------------- 10.1/56.8 MB 12.6 MB/s eta 0:00:04\n",
      "     ------ -------------------------------- 10.1/56.8 MB 12.0 MB/s eta 0:00:04\n",
      "     ------ -------------------------------- 10.1/56.8 MB 11.2 MB/s eta 0:00:05\n",
      "     ------- ------------------------------- 10.4/56.8 MB 11.1 MB/s eta 0:00:05\n",
      "     ------- ------------------------------- 11.1/56.8 MB 11.3 MB/s eta 0:00:05\n",
      "     -------- ------------------------------ 12.1/56.8 MB 11.5 MB/s eta 0:00:04\n",
      "     -------- ------------------------------ 12.9/56.8 MB 11.9 MB/s eta 0:00:04\n",
      "     --------- ----------------------------- 13.9/56.8 MB 11.9 MB/s eta 0:00:04\n",
      "     ---------- ---------------------------- 14.9/56.8 MB 12.9 MB/s eta 0:00:04\n",
      "     ---------- ---------------------------- 15.5/56.8 MB 12.8 MB/s eta 0:00:04\n",
      "     ----------- --------------------------- 16.7/56.8 MB 13.9 MB/s eta 0:00:03\n",
      "     ----------- --------------------------- 17.4/56.8 MB 14.2 MB/s eta 0:00:03\n",
      "     ------------ -------------------------- 18.4/56.8 MB 14.9 MB/s eta 0:00:03\n",
      "     ------------- ------------------------- 19.3/56.8 MB 15.2 MB/s eta 0:00:03\n",
      "     ------------- ------------------------- 20.3/56.8 MB 15.6 MB/s eta 0:00:03\n",
      "     -------------- ------------------------ 21.1/56.8 MB 19.8 MB/s eta 0:00:02\n",
      "     --------------- ----------------------- 22.1/56.8 MB 20.5 MB/s eta 0:00:02\n",
      "     --------------- ----------------------- 23.2/56.8 MB 21.1 MB/s eta 0:00:02\n",
      "     ---------------- ---------------------- 24.1/56.8 MB 20.5 MB/s eta 0:00:02\n",
      "     ---------------- ---------------------- 24.7/56.8 MB 19.9 MB/s eta 0:00:02\n",
      "     ----------------- --------------------- 25.6/56.8 MB 20.5 MB/s eta 0:00:02\n",
      "     ----------------- --------------------- 25.8/56.8 MB 19.8 MB/s eta 0:00:02\n",
      "     ----------------- --------------------- 25.9/56.8 MB 18.7 MB/s eta 0:00:02\n",
      "     ----------------- --------------------- 25.9/56.8 MB 16.4 MB/s eta 0:00:02\n",
      "     ----------------- --------------------- 26.0/56.8 MB 15.2 MB/s eta 0:00:03\n",
      "     ------------------ -------------------- 26.6/56.8 MB 14.6 MB/s eta 0:00:03\n",
      "     ------------------ -------------------- 27.3/56.8 MB 14.9 MB/s eta 0:00:02\n",
      "     ------------------- ------------------- 28.2/56.8 MB 14.9 MB/s eta 0:00:02\n",
      "     -------------------- ------------------ 29.2/56.8 MB 14.9 MB/s eta 0:00:02\n",
      "     -------------------- ------------------ 29.8/56.8 MB 14.5 MB/s eta 0:00:02\n",
      "     --------------------- ----------------- 30.8/56.8 MB 14.6 MB/s eta 0:00:02\n",
      "     --------------------- ----------------- 31.8/56.8 MB 14.2 MB/s eta 0:00:02\n",
      "     ---------------------- ---------------- 32.8/56.8 MB 14.2 MB/s eta 0:00:02\n",
      "     ----------------------- --------------- 33.9/56.8 MB 14.6 MB/s eta 0:00:02\n",
      "     ----------------------- --------------- 34.8/56.8 MB 14.6 MB/s eta 0:00:02\n",
      "     ------------------------ -------------- 35.6/56.8 MB 14.6 MB/s eta 0:00:02\n",
      "     ------------------------- ------------- 36.6/56.8 MB 19.2 MB/s eta 0:00:02\n",
      "     ------------------------- ------------- 37.1/56.8 MB 19.8 MB/s eta 0:00:01\n",
      "     -------------------------- ------------ 37.9/56.8 MB 19.3 MB/s eta 0:00:01\n",
      "     -------------------------- ------------ 39.0/56.8 MB 19.8 MB/s eta 0:00:01\n",
      "     --------------------------- ----------- 39.6/56.8 MB 19.8 MB/s eta 0:00:01\n",
      "     --------------------------- ----------- 40.5/56.8 MB 20.5 MB/s eta 0:00:01\n",
      "     ---------------------------- ---------- 41.7/56.8 MB 20.5 MB/s eta 0:00:01\n",
      "     ----------------------------- --------- 42.5/56.8 MB 19.8 MB/s eta 0:00:01\n",
      "     ----------------------------- --------- 43.2/56.8 MB 19.8 MB/s eta 0:00:01\n",
      "     ------------------------------ -------- 44.3/56.8 MB 19.9 MB/s eta 0:00:01\n",
      "     ------------------------------ -------- 45.1/56.8 MB 20.5 MB/s eta 0:00:01\n",
      "     ------------------------------- ------- 46.4/56.8 MB 20.5 MB/s eta 0:00:01\n",
      "     -------------------------------- ------ 47.2/56.8 MB 20.5 MB/s eta 0:00:01\n",
      "     -------------------------------- ------ 48.1/56.8 MB 21.1 MB/s eta 0:00:01\n",
      "     --------------------------------- ----- 49.0/56.8 MB 20.5 MB/s eta 0:00:01\n",
      "     ---------------------------------- ---- 50.2/56.8 MB 21.8 MB/s eta 0:00:01\n",
      "     ---------------------------------- ---- 50.9/56.8 MB 21.1 MB/s eta 0:00:01\n",
      "     ----------------------------------- --- 52.2/56.8 MB 20.5 MB/s eta 0:00:01\n",
      "     ------------------------------------ -- 52.9/56.8 MB 21.1 MB/s eta 0:00:01\n",
      "     ------------------------------------ -- 53.7/56.8 MB 21.1 MB/s eta 0:00:01\n",
      "     ------------------------------------- - 54.9/56.8 MB 21.1 MB/s eta 0:00:01\n",
      "     --------------------------------------  55.9/56.8 MB 21.1 MB/s eta 0:00:01\n",
      "     --------------------------------------  56.6/56.8 MB 20.5 MB/s eta 0:00:01\n",
      "     --------------------------------------  56.8/56.8 MB 21.1 MB/s eta 0:00:01\n",
      "     --------------------------------------  56.8/56.8 MB 21.1 MB/s eta 0:00:01\n",
      "     --------------------------------------  56.8/56.8 MB 21.1 MB/s eta 0:00:01\n",
      "     --------------------------------------- 56.8/56.8 MB 16.0 MB/s eta 0:00:00\n",
      "Requirement already satisfied: numpy in c:\\users\\aryan\\appdata\\local\\packages\\pythonsoftwarefoundation.python.3.10_qbz5n2kfra8p0\\localcache\\local-packages\\python310\\site-packages (from xgboost) (1.26.2)\n",
      "Requirement already satisfied: scipy in c:\\users\\aryan\\appdata\\local\\packages\\pythonsoftwarefoundation.python.3.10_qbz5n2kfra8p0\\localcache\\local-packages\\python310\\site-packages (from xgboost) (1.15.2)\n",
      "Installing collected packages: xgboost\n",
      "Successfully installed xgboost-3.0.5\n"
     ]
    },
    {
     "name": "stderr",
     "output_type": "stream",
     "text": [
      "\n",
      "[notice] A new release of pip is available: 23.0.1 -> 25.2\n",
      "[notice] To update, run: C:\\Users\\Aryan\\AppData\\Local\\Microsoft\\WindowsApps\\PythonSoftwareFoundation.Python.3.10_qbz5n2kfra8p0\\python.exe -m pip install --upgrade pip\n"
     ]
    }
   ],
   "source": [
    "!pip install xgboost"
   ]
  },
  {
   "cell_type": "code",
   "execution_count": 3,
   "id": "67ce91cd",
   "metadata": {},
   "outputs": [],
   "source": [
    "import pandas as pd\n",
    "import numpy as np\n",
    "import lightgbm as lgb\n",
    "import xgboost as xgb\n",
    "import warnings\n",
    "\n",
    "warnings.filterwarnings('ignore')"
   ]
  },
  {
   "cell_type": "code",
   "execution_count": 4,
   "id": "aa49dce6",
   "metadata": {},
   "outputs": [
    {
     "name": "stdout",
     "output_type": "stream",
     "text": [
      "\n",
      "Loading the data\n",
      "data loaded\n"
     ]
    }
   ],
   "source": [
    "try:\n",
    "    print (\"\\nLoading the data\")\n",
    "    train_df = pd.read_csv(\"C:/Users/Aryan/Downloads/Quant_Challenge_2025/train.csv\")\n",
    "    test_df = pd.read_csv(\"C:/Users/Aryan/Downloads/Quant_Challenge_2025/test.csv\")\n",
    "    print(\"data loaded\")\n",
    "except FileNotFoundError as e:\n",
    "    print(f\"Error: {e}\")\n",
    "    exit()"
   ]
  },
  {
   "cell_type": "code",
   "execution_count": 5,
   "id": "a8392a76",
   "metadata": {},
   "outputs": [
    {
     "name": "stdout",
     "output_type": "stream",
     "text": [
      "Shape before handling NaNs: (80000, 60)\n",
      "Shape after filling NaNs: (80000, 60)\n"
     ]
    }
   ],
   "source": [
    "#Feature Engineering\n",
    "\n",
    "combined_df = pd.concat([train_df.drop(['Y1', 'Y2'], axis=1), test_df], ignore_index=True)\n",
    "\n",
    "features = [col for col in train_df.columns if col not in ['time', 'Y1', 'Y2']]\n",
    "WINDOW_SIZE = 10 \n",
    "\n",
    "for feature in features:\n",
    "    #lag features\n",
    "    combined_df[f'{feature}_lag1'] = combined_df[feature].shift(1)\n",
    "    \n",
    "    #rolling mean features\n",
    "    combined_df[f'{feature}_rolling_mean{WINDOW_SIZE}'] = combined_df[feature].rolling(window=WINDOW_SIZE).mean()\n",
    "    \n",
    "    #rolling volatility (standard deviation) features\n",
    "    combined_df[f'{feature}_rolling_std{WINDOW_SIZE}'] = combined_df[feature].rolling(window=WINDOW_SIZE).std()\n",
    "\n",
    "train_processed_df = combined_df.iloc[:len(train_df)].copy()\n",
    "test_processed_df = combined_df.iloc[len(train_df):].copy()\n",
    "\n",
    "train_processed_df['Y1'] = train_df['Y1']\n",
    "train_processed_df['Y2'] = train_df['Y2']\n",
    "\n",
    "print(f\"Shape before handling NaNs: {train_processed_df.shape}\")\n",
    "train_processed_df.bfill(inplace=True)\n",
    "train_processed_df.ffill(inplace=True)\n",
    "print(f\"Shape after filling NaNs: {train_processed_df.shape}\")"
   ]
  },
  {
   "cell_type": "code",
   "execution_count": 6,
   "id": "818faa22",
   "metadata": {},
   "outputs": [
    {
     "name": "stdout",
     "output_type": "stream",
     "text": [
      "LightGBM model trained.\n",
      "XGBoost model trained.\n"
     ]
    }
   ],
   "source": [
    "#Models training\n",
    "\n",
    "features_to_use = [col for col in train_processed_df.columns if col not in ['id', 'time', 'Y1', 'Y2']]\n",
    "X_train = train_processed_df[features_to_use]\n",
    "y1_train = train_processed_df['Y1']\n",
    "y2_train = train_processed_df['Y2']\n",
    "\n",
    "X_test = test_processed_df[features_to_use]\n",
    "X_test.bfill(inplace=True)\n",
    "X_test.ffill(inplace=True)\n",
    "\n",
    "#LightGBM \n",
    "lgb_params = {\n",
    "    'objective': 'regression_l1', 'metric': 'rmse', 'n_estimators': 1500,\n",
    "    'learning_rate': 0.03, 'feature_fraction': 0.8, 'bagging_fraction': 0.8,\n",
    "    'bagging_freq': 1, 'lambda_l1': 0.1, 'lambda_l2': 0.1,\n",
    "    'num_leaves': 40, 'verbose': -1, 'n_jobs': -1\n",
    "}\n",
    "model_y1_lgb = lgb.LGBMRegressor(**lgb_params)\n",
    "model_y1_lgb.fit(X_train, y1_train)\n",
    "predictions_y1_lgb = model_y1_lgb.predict(X_test)\n",
    "\n",
    "model_y2_lgb = lgb.LGBMRegressor(**lgb_params)\n",
    "model_y2_lgb.fit(X_train, y2_train)\n",
    "predictions_y2_lgb = model_y2_lgb.predict(X_test)\n",
    "print(\"LightGBM model trained.\")\n",
    "\n",
    "#XGBoost\n",
    "xgb_params = {\n",
    "    'objective': 'reg:squarederror', 'eval_metric': 'rmse', 'n_estimators': 1000,\n",
    "    'learning_rate': 0.04, 'max_depth': 4, 'subsample': 0.8,\n",
    "    'colsample_bytree': 0.8, 'n_jobs': -1\n",
    "}\n",
    "model_y1_xgb = xgb.XGBRegressor(**xgb_params)\n",
    "model_y1_xgb.fit(X_train, y1_train)\n",
    "predictions_y1_xgb = model_y1_xgb.predict(X_test)\n",
    "\n",
    "model_y2_xgb = xgb.XGBRegressor(**xgb_params)\n",
    "model_y2_xgb.fit(X_train, y2_train)\n",
    "predictions_y2_xgb = model_y2_xgb.predict(X_test)\n",
    "print(\"XGBoost model trained.\")"
   ]
  },
  {
   "cell_type": "code",
   "execution_count": 7,
   "id": "ab081922",
   "metadata": {},
   "outputs": [
    {
     "name": "stdout",
     "output_type": "stream",
     "text": [
      "\n",
      "✅ Success! Submission file 'submission_ensemble.csv' created.\n"
     ]
    }
   ],
   "source": [
    "ensemble_preds_y1 = (predictions_y1_lgb + predictions_y1_xgb) / 2.0\n",
    "ensemble_preds_y2 = (predictions_y2_lgb + predictions_y2_xgb) / 2.0\n",
    "\n",
    "submission_ensemble = pd.DataFrame({'id': test_df['id'], 'Y1': ensemble_preds_y1, 'Y2': ensemble_preds_y2})\n",
    "submission_ensemble.to_csv('submission_ensemble.csv', index=False)\n",
    "\n",
    "print(\"\\n✅ Success! Submission file 'submission_ensemble.csv' created.\")"
   ]
  }
 ],
 "metadata": {
  "kernelspec": {
   "display_name": "Python 3",
   "language": "python",
   "name": "python3"
  },
  "language_info": {
   "codemirror_mode": {
    "name": "ipython",
    "version": 3
   },
   "file_extension": ".py",
   "mimetype": "text/x-python",
   "name": "python",
   "nbconvert_exporter": "python",
   "pygments_lexer": "ipython3",
   "version": "3.10.11"
  }
 },
 "nbformat": 4,
 "nbformat_minor": 5
}
